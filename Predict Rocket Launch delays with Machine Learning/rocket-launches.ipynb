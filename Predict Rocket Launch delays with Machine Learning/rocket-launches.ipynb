{
 "metadata": {
  "language_info": {
   "codemirror_mode": {
    "name": "ipython",
    "version": 3
   },
   "file_extension": ".py",
   "mimetype": "text/x-python",
   "name": "python",
   "nbconvert_exporter": "python",
   "pygments_lexer": "ipython3",
   "version": "3.7.9-final"
  },
  "orig_nbformat": 2,
  "kernelspec": {
   "name": "python_defaultSpec_1602347068019",
   "display_name": "Python 3.7.9 64-bit ('myenv': conda)"
  }
 },
 "nbformat": 4,
 "nbformat_minor": 2,
 "cells": [
  {
   "cell_type": "code",
   "execution_count": 1,
   "metadata": {},
   "outputs": [],
   "source": [
    "# Pandas library is used for handling tabular data\n",
    "import pandas as pd\n",
    "# NumPy is used for handling numerical series operations (addition, multiplication, and ...)\n",
    "import numpy as np\n",
    "# Sklearn library contains all the machine learning packages we need to digest and extract patterns from the data\n",
    "from sklearn import linear_model, model_selection, metrics\n",
    "from sklearn.model_selection import train_test_split\n",
    "\n",
    "# Machine learning libraries used to build a decision tree\n",
    "from sklearn.tree import DecisionTreeClassifier\n",
    "from sklearn import tree\n",
    "\n",
    "# Sklearn's preprocessing library is used for processing and cleaning the data \n",
    "from sklearn import preprocessing\n",
    "\n",
    "# for visualizing the tree\n",
    "import pydotplus\n",
    "from IPython.display import Image"
   ]
  },
  {
   "cell_type": "code",
   "execution_count": 2,
   "metadata": {},
   "outputs": [
    {
     "output_type": "execute_result",
     "data": {
      "text/plain": "        Name       Date Time (East Coast)        Location Crewed or Uncrewed  \\\n0        NaN 1958-12-04               NaN  Cape Canaveral                NaN   \n1        NaN 1958-12-05               NaN  Cape Canaveral                NaN   \n2  Pioneer 3 1958-12-06          01:45:00  Cape Canaveral           Uncrewed   \n3        NaN 1958-12-07               NaN  Cape Canaveral                NaN   \n4        NaN 1958-12-08               NaN  Cape Canaveral                NaN   \n\n  Launched?  High Temp  Low Temp  Ave Temp  Temp at Launch Time  ...  \\\n0       NaN       75.0      68.0     71.00                  NaN  ...   \n1       NaN       78.0      70.0     73.39                  NaN  ...   \n2         Y       73.0       0.0     60.21                 62.0  ...   \n3       NaN       76.0      57.0     66.04                  NaN  ...   \n4       NaN       79.0      60.0     70.52                  NaN  ...   \n\n   Max Wind Speed  Visibility  Wind Speed at Launch Time  \\\n0            16.0        15.0                        NaN   \n1            14.0        10.0                        NaN   \n2            15.0        10.0                       11.0   \n3            10.0        10.0                        NaN   \n4            12.0        10.0                        NaN   \n\n   Hist Ave Max Wind Speed  Hist Ave Visibility Sea Level Pressure  \\\n0                      NaN                  NaN              30.22   \n1                      NaN                  NaN               30.2   \n2                      NaN                  NaN              30.25   \n3                      NaN                  NaN              30.28   \n4                      NaN                  NaN              30.23   \n\n   Hist Ave Sea Level Pressure  Day Length      Condition  Notes  \n0                          NaN    10:26:00         Cloudy    NaN  \n1                          NaN    10:26:00         Cloudy    NaN  \n2                          NaN    10:25:00         Cloudy    NaN  \n3                          NaN    10:25:00  Partly Cloudy    NaN  \n4                          NaN    12:24:00  Partly Cloudy    NaN  \n\n[5 rows x 26 columns]",
      "text/html": "<div>\n<style scoped>\n    .dataframe tbody tr th:only-of-type {\n        vertical-align: middle;\n    }\n\n    .dataframe tbody tr th {\n        vertical-align: top;\n    }\n\n    .dataframe thead th {\n        text-align: right;\n    }\n</style>\n<table border=\"1\" class=\"dataframe\">\n  <thead>\n    <tr style=\"text-align: right;\">\n      <th></th>\n      <th>Name</th>\n      <th>Date</th>\n      <th>Time (East Coast)</th>\n      <th>Location</th>\n      <th>Crewed or Uncrewed</th>\n      <th>Launched?</th>\n      <th>High Temp</th>\n      <th>Low Temp</th>\n      <th>Ave Temp</th>\n      <th>Temp at Launch Time</th>\n      <th>...</th>\n      <th>Max Wind Speed</th>\n      <th>Visibility</th>\n      <th>Wind Speed at Launch Time</th>\n      <th>Hist Ave Max Wind Speed</th>\n      <th>Hist Ave Visibility</th>\n      <th>Sea Level Pressure</th>\n      <th>Hist Ave Sea Level Pressure</th>\n      <th>Day Length</th>\n      <th>Condition</th>\n      <th>Notes</th>\n    </tr>\n  </thead>\n  <tbody>\n    <tr>\n      <th>0</th>\n      <td>NaN</td>\n      <td>1958-12-04</td>\n      <td>NaN</td>\n      <td>Cape Canaveral</td>\n      <td>NaN</td>\n      <td>NaN</td>\n      <td>75.0</td>\n      <td>68.0</td>\n      <td>71.00</td>\n      <td>NaN</td>\n      <td>...</td>\n      <td>16.0</td>\n      <td>15.0</td>\n      <td>NaN</td>\n      <td>NaN</td>\n      <td>NaN</td>\n      <td>30.22</td>\n      <td>NaN</td>\n      <td>10:26:00</td>\n      <td>Cloudy</td>\n      <td>NaN</td>\n    </tr>\n    <tr>\n      <th>1</th>\n      <td>NaN</td>\n      <td>1958-12-05</td>\n      <td>NaN</td>\n      <td>Cape Canaveral</td>\n      <td>NaN</td>\n      <td>NaN</td>\n      <td>78.0</td>\n      <td>70.0</td>\n      <td>73.39</td>\n      <td>NaN</td>\n      <td>...</td>\n      <td>14.0</td>\n      <td>10.0</td>\n      <td>NaN</td>\n      <td>NaN</td>\n      <td>NaN</td>\n      <td>30.2</td>\n      <td>NaN</td>\n      <td>10:26:00</td>\n      <td>Cloudy</td>\n      <td>NaN</td>\n    </tr>\n    <tr>\n      <th>2</th>\n      <td>Pioneer 3</td>\n      <td>1958-12-06</td>\n      <td>01:45:00</td>\n      <td>Cape Canaveral</td>\n      <td>Uncrewed</td>\n      <td>Y</td>\n      <td>73.0</td>\n      <td>0.0</td>\n      <td>60.21</td>\n      <td>62.0</td>\n      <td>...</td>\n      <td>15.0</td>\n      <td>10.0</td>\n      <td>11.0</td>\n      <td>NaN</td>\n      <td>NaN</td>\n      <td>30.25</td>\n      <td>NaN</td>\n      <td>10:25:00</td>\n      <td>Cloudy</td>\n      <td>NaN</td>\n    </tr>\n    <tr>\n      <th>3</th>\n      <td>NaN</td>\n      <td>1958-12-07</td>\n      <td>NaN</td>\n      <td>Cape Canaveral</td>\n      <td>NaN</td>\n      <td>NaN</td>\n      <td>76.0</td>\n      <td>57.0</td>\n      <td>66.04</td>\n      <td>NaN</td>\n      <td>...</td>\n      <td>10.0</td>\n      <td>10.0</td>\n      <td>NaN</td>\n      <td>NaN</td>\n      <td>NaN</td>\n      <td>30.28</td>\n      <td>NaN</td>\n      <td>10:25:00</td>\n      <td>Partly Cloudy</td>\n      <td>NaN</td>\n    </tr>\n    <tr>\n      <th>4</th>\n      <td>NaN</td>\n      <td>1958-12-08</td>\n      <td>NaN</td>\n      <td>Cape Canaveral</td>\n      <td>NaN</td>\n      <td>NaN</td>\n      <td>79.0</td>\n      <td>60.0</td>\n      <td>70.52</td>\n      <td>NaN</td>\n      <td>...</td>\n      <td>12.0</td>\n      <td>10.0</td>\n      <td>NaN</td>\n      <td>NaN</td>\n      <td>NaN</td>\n      <td>30.23</td>\n      <td>NaN</td>\n      <td>12:24:00</td>\n      <td>Partly Cloudy</td>\n      <td>NaN</td>\n    </tr>\n  </tbody>\n</table>\n<p>5 rows × 26 columns</p>\n</div>"
     },
     "metadata": {},
     "execution_count": 2
    }
   ],
   "source": [
    "launch_data = pd.read_excel('RocketLaunchDataCompleted.xlsx')\n",
    "launch_data.head()"
   ]
  },
  {
   "cell_type": "code",
   "execution_count": 3,
   "metadata": {},
   "outputs": [
    {
     "output_type": "execute_result",
     "data": {
      "text/plain": "Index(['Name', 'Date', 'Time (East Coast)', 'Location', 'Crewed or Uncrewed',\n       'Launched?', 'High Temp', 'Low Temp', 'Ave Temp', 'Temp at Launch Time',\n       'Hist High Temp', 'Hist Low Temp', 'Hist Ave Temp',\n       'Percipitation at Launch Time', 'Hist Ave Percipitation',\n       'Wind Direction', 'Max Wind Speed', 'Visibility',\n       'Wind Speed at Launch Time', 'Hist Ave Max Wind Speed',\n       'Hist Ave Visibility', 'Sea Level Pressure',\n       'Hist Ave Sea Level Pressure', 'Day Length', 'Condition', 'Notes'],\n      dtype='object')"
     },
     "metadata": {},
     "execution_count": 3
    }
   ],
   "source": [
    "launch_data.columns"
   ]
  },
  {
   "cell_type": "code",
   "execution_count": 4,
   "metadata": {
    "tags": []
   },
   "outputs": [
    {
     "output_type": "stream",
     "name": "stdout",
     "text": "<class 'pandas.core.frame.DataFrame'>\nRangeIndex: 300 entries, 0 to 299\nData columns (total 26 columns):\n #   Column                        Non-Null Count  Dtype         \n---  ------                        --------------  -----         \n 0   Name                          60 non-null     object        \n 1   Date                          300 non-null    datetime64[ns]\n 2   Time (East Coast)             59 non-null     object        \n 3   Location                      300 non-null    object        \n 4   Crewed or Uncrewed            60 non-null     object        \n 5   Launched?                     60 non-null     object        \n 6   High Temp                     299 non-null    float64       \n 7   Low Temp                      299 non-null    float64       \n 8   Ave Temp                      299 non-null    float64       \n 9   Temp at Launch Time           59 non-null     float64       \n 10  Hist High Temp                299 non-null    float64       \n 11  Hist Low Temp                 299 non-null    float64       \n 12  Hist Ave Temp                 299 non-null    float64       \n 13  Percipitation at Launch Time  299 non-null    float64       \n 14  Hist Ave Percipitation        299 non-null    float64       \n 15  Wind Direction                299 non-null    object        \n 16  Max Wind Speed                299 non-null    float64       \n 17  Visibility                    299 non-null    float64       \n 18  Wind Speed at Launch Time     59 non-null     float64       \n 19  Hist Ave Max Wind Speed       0 non-null      float64       \n 20  Hist Ave Visibility           0 non-null      float64       \n 21  Sea Level Pressure            299 non-null    object        \n 22  Hist Ave Sea Level Pressure   0 non-null      float64       \n 23  Day Length                    298 non-null    object        \n 24  Condition                     298 non-null    object        \n 25  Notes                         3 non-null      object        \ndtypes: datetime64[ns](1), float64(15), object(10)\nmemory usage: 61.1+ KB\n"
    }
   ],
   "source": [
    "launch_data.info()"
   ]
  },
  {
   "cell_type": "code",
   "execution_count": 5,
   "metadata": {},
   "outputs": [
    {
     "output_type": "execute_result",
     "data": {
      "text/plain": "        Name       Date Time (East Coast)        Location Crewed or Uncrewed  \\\n0          0 1958-12-04                 0  Cape Canaveral           Uncrewed   \n1          0 1958-12-05                 0  Cape Canaveral           Uncrewed   \n2  Pioneer 3 1958-12-06          01:45:00  Cape Canaveral           Uncrewed   \n3          0 1958-12-07                 0  Cape Canaveral           Uncrewed   \n4          0 1958-12-08                 0  Cape Canaveral           Uncrewed   \n\n  Launched?  High Temp  Low Temp  Ave Temp  Temp at Launch Time  ...  \\\n0         N       75.0      68.0     71.00                  0.0  ...   \n1         N       78.0      70.0     73.39                  0.0  ...   \n2         Y       73.0       0.0     60.21                 62.0  ...   \n3         N       76.0      57.0     66.04                  0.0  ...   \n4         N       79.0      60.0     70.52                  0.0  ...   \n\n   Max Wind Speed  Visibility  Wind Speed at Launch Time  \\\n0            16.0        15.0                        0.0   \n1            14.0        10.0                        0.0   \n2            15.0        10.0                       11.0   \n3            10.0        10.0                        0.0   \n4            12.0        10.0                        0.0   \n\n   Hist Ave Max Wind Speed  Hist Ave Visibility Sea Level Pressure  \\\n0                      0.0                  0.0              30.22   \n1                      0.0                  0.0               30.2   \n2                      0.0                  0.0              30.25   \n3                      0.0                  0.0              30.28   \n4                      0.0                  0.0              30.23   \n\n   Hist Ave Sea Level Pressure  Day Length      Condition  Notes  \n0                          0.0    10:26:00         Cloudy      0  \n1                          0.0    10:26:00         Cloudy      0  \n2                          0.0    10:25:00         Cloudy      0  \n3                          0.0    10:25:00  Partly Cloudy      0  \n4                          0.0    12:24:00  Partly Cloudy      0  \n\n[5 rows x 26 columns]",
      "text/html": "<div>\n<style scoped>\n    .dataframe tbody tr th:only-of-type {\n        vertical-align: middle;\n    }\n\n    .dataframe tbody tr th {\n        vertical-align: top;\n    }\n\n    .dataframe thead th {\n        text-align: right;\n    }\n</style>\n<table border=\"1\" class=\"dataframe\">\n  <thead>\n    <tr style=\"text-align: right;\">\n      <th></th>\n      <th>Name</th>\n      <th>Date</th>\n      <th>Time (East Coast)</th>\n      <th>Location</th>\n      <th>Crewed or Uncrewed</th>\n      <th>Launched?</th>\n      <th>High Temp</th>\n      <th>Low Temp</th>\n      <th>Ave Temp</th>\n      <th>Temp at Launch Time</th>\n      <th>...</th>\n      <th>Max Wind Speed</th>\n      <th>Visibility</th>\n      <th>Wind Speed at Launch Time</th>\n      <th>Hist Ave Max Wind Speed</th>\n      <th>Hist Ave Visibility</th>\n      <th>Sea Level Pressure</th>\n      <th>Hist Ave Sea Level Pressure</th>\n      <th>Day Length</th>\n      <th>Condition</th>\n      <th>Notes</th>\n    </tr>\n  </thead>\n  <tbody>\n    <tr>\n      <th>0</th>\n      <td>0</td>\n      <td>1958-12-04</td>\n      <td>0</td>\n      <td>Cape Canaveral</td>\n      <td>Uncrewed</td>\n      <td>N</td>\n      <td>75.0</td>\n      <td>68.0</td>\n      <td>71.00</td>\n      <td>0.0</td>\n      <td>...</td>\n      <td>16.0</td>\n      <td>15.0</td>\n      <td>0.0</td>\n      <td>0.0</td>\n      <td>0.0</td>\n      <td>30.22</td>\n      <td>0.0</td>\n      <td>10:26:00</td>\n      <td>Cloudy</td>\n      <td>0</td>\n    </tr>\n    <tr>\n      <th>1</th>\n      <td>0</td>\n      <td>1958-12-05</td>\n      <td>0</td>\n      <td>Cape Canaveral</td>\n      <td>Uncrewed</td>\n      <td>N</td>\n      <td>78.0</td>\n      <td>70.0</td>\n      <td>73.39</td>\n      <td>0.0</td>\n      <td>...</td>\n      <td>14.0</td>\n      <td>10.0</td>\n      <td>0.0</td>\n      <td>0.0</td>\n      <td>0.0</td>\n      <td>30.2</td>\n      <td>0.0</td>\n      <td>10:26:00</td>\n      <td>Cloudy</td>\n      <td>0</td>\n    </tr>\n    <tr>\n      <th>2</th>\n      <td>Pioneer 3</td>\n      <td>1958-12-06</td>\n      <td>01:45:00</td>\n      <td>Cape Canaveral</td>\n      <td>Uncrewed</td>\n      <td>Y</td>\n      <td>73.0</td>\n      <td>0.0</td>\n      <td>60.21</td>\n      <td>62.0</td>\n      <td>...</td>\n      <td>15.0</td>\n      <td>10.0</td>\n      <td>11.0</td>\n      <td>0.0</td>\n      <td>0.0</td>\n      <td>30.25</td>\n      <td>0.0</td>\n      <td>10:25:00</td>\n      <td>Cloudy</td>\n      <td>0</td>\n    </tr>\n    <tr>\n      <th>3</th>\n      <td>0</td>\n      <td>1958-12-07</td>\n      <td>0</td>\n      <td>Cape Canaveral</td>\n      <td>Uncrewed</td>\n      <td>N</td>\n      <td>76.0</td>\n      <td>57.0</td>\n      <td>66.04</td>\n      <td>0.0</td>\n      <td>...</td>\n      <td>10.0</td>\n      <td>10.0</td>\n      <td>0.0</td>\n      <td>0.0</td>\n      <td>0.0</td>\n      <td>30.28</td>\n      <td>0.0</td>\n      <td>10:25:00</td>\n      <td>Partly Cloudy</td>\n      <td>0</td>\n    </tr>\n    <tr>\n      <th>4</th>\n      <td>0</td>\n      <td>1958-12-08</td>\n      <td>0</td>\n      <td>Cape Canaveral</td>\n      <td>Uncrewed</td>\n      <td>N</td>\n      <td>79.0</td>\n      <td>60.0</td>\n      <td>70.52</td>\n      <td>0.0</td>\n      <td>...</td>\n      <td>12.0</td>\n      <td>10.0</td>\n      <td>0.0</td>\n      <td>0.0</td>\n      <td>0.0</td>\n      <td>30.23</td>\n      <td>0.0</td>\n      <td>12:24:00</td>\n      <td>Partly Cloudy</td>\n      <td>0</td>\n    </tr>\n  </tbody>\n</table>\n<p>5 rows × 26 columns</p>\n</div>"
     },
     "metadata": {},
     "execution_count": 5
    }
   ],
   "source": [
    "## To handle missing values, we will fill the missing values with appropriate values \n",
    "launch_data['Launched?'].fillna('N',inplace=True)\n",
    "launch_data['Crewed or Uncrewed'].fillna('Uncrewed',inplace=True)\n",
    "launch_data['Wind Direction'].fillna('unknown',inplace=True)\n",
    "launch_data['Condition'].fillna('Fair',inplace=True)\n",
    "launch_data.fillna(0,inplace=True)\n",
    "launch_data.head()"
   ]
  },
  {
   "cell_type": "code",
   "execution_count": 6,
   "metadata": {},
   "outputs": [],
   "source": [
    "## As part of the data cleaning process, we have to convert text data to numerical because computers understand only numbers\n",
    "label_encoder = preprocessing.LabelEncoder()\n",
    "\n",
    "# Three columns have categorical text info, and we convert them to numbers\n",
    "launch_data['Crewed or Uncrewed'] = label_encoder.fit_transform(launch_data['Crewed or Uncrewed'])\n",
    "launch_data['Wind Direction'] = label_encoder.fit_transform(launch_data['Wind Direction'])\n",
    "launch_data['Condition'] = label_encoder.fit_transform(launch_data['Condition'])"
   ]
  },
  {
   "cell_type": "code",
   "execution_count": 7,
   "metadata": {},
   "outputs": [
    {
     "output_type": "execute_result",
     "data": {
      "text/plain": "        Name       Date Time (East Coast)        Location  Crewed or Uncrewed  \\\n0          0 1958-12-04                 0  Cape Canaveral                   1   \n1          0 1958-12-05                 0  Cape Canaveral                   1   \n2  Pioneer 3 1958-12-06          01:45:00  Cape Canaveral                   1   \n3          0 1958-12-07                 0  Cape Canaveral                   1   \n4          0 1958-12-08                 0  Cape Canaveral                   1   \n\n  Launched?  High Temp  Low Temp  Ave Temp  Temp at Launch Time  ...  \\\n0         N       75.0      68.0     71.00                  0.0  ...   \n1         N       78.0      70.0     73.39                  0.0  ...   \n2         Y       73.0       0.0     60.21                 62.0  ...   \n3         N       76.0      57.0     66.04                  0.0  ...   \n4         N       79.0      60.0     70.52                  0.0  ...   \n\n   Max Wind Speed  Visibility  Wind Speed at Launch Time  \\\n0            16.0        15.0                        0.0   \n1            14.0        10.0                        0.0   \n2            15.0        10.0                       11.0   \n3            10.0        10.0                        0.0   \n4            12.0        10.0                        0.0   \n\n   Hist Ave Max Wind Speed  Hist Ave Visibility  Sea Level Pressure  \\\n0                      0.0                  0.0               30.22   \n1                      0.0                  0.0                30.2   \n2                      0.0                  0.0               30.25   \n3                      0.0                  0.0               30.28   \n4                      0.0                  0.0               30.23   \n\n   Hist Ave Sea Level Pressure  Day Length  Condition  Notes  \n0                          0.0    10:26:00          0      0  \n1                          0.0    10:26:00          0      0  \n2                          0.0    10:25:00          0      0  \n3                          0.0    10:25:00          6      0  \n4                          0.0    12:24:00          6      0  \n\n[5 rows x 26 columns]",
      "text/html": "<div>\n<style scoped>\n    .dataframe tbody tr th:only-of-type {\n        vertical-align: middle;\n    }\n\n    .dataframe tbody tr th {\n        vertical-align: top;\n    }\n\n    .dataframe thead th {\n        text-align: right;\n    }\n</style>\n<table border=\"1\" class=\"dataframe\">\n  <thead>\n    <tr style=\"text-align: right;\">\n      <th></th>\n      <th>Name</th>\n      <th>Date</th>\n      <th>Time (East Coast)</th>\n      <th>Location</th>\n      <th>Crewed or Uncrewed</th>\n      <th>Launched?</th>\n      <th>High Temp</th>\n      <th>Low Temp</th>\n      <th>Ave Temp</th>\n      <th>Temp at Launch Time</th>\n      <th>...</th>\n      <th>Max Wind Speed</th>\n      <th>Visibility</th>\n      <th>Wind Speed at Launch Time</th>\n      <th>Hist Ave Max Wind Speed</th>\n      <th>Hist Ave Visibility</th>\n      <th>Sea Level Pressure</th>\n      <th>Hist Ave Sea Level Pressure</th>\n      <th>Day Length</th>\n      <th>Condition</th>\n      <th>Notes</th>\n    </tr>\n  </thead>\n  <tbody>\n    <tr>\n      <th>0</th>\n      <td>0</td>\n      <td>1958-12-04</td>\n      <td>0</td>\n      <td>Cape Canaveral</td>\n      <td>1</td>\n      <td>N</td>\n      <td>75.0</td>\n      <td>68.0</td>\n      <td>71.00</td>\n      <td>0.0</td>\n      <td>...</td>\n      <td>16.0</td>\n      <td>15.0</td>\n      <td>0.0</td>\n      <td>0.0</td>\n      <td>0.0</td>\n      <td>30.22</td>\n      <td>0.0</td>\n      <td>10:26:00</td>\n      <td>0</td>\n      <td>0</td>\n    </tr>\n    <tr>\n      <th>1</th>\n      <td>0</td>\n      <td>1958-12-05</td>\n      <td>0</td>\n      <td>Cape Canaveral</td>\n      <td>1</td>\n      <td>N</td>\n      <td>78.0</td>\n      <td>70.0</td>\n      <td>73.39</td>\n      <td>0.0</td>\n      <td>...</td>\n      <td>14.0</td>\n      <td>10.0</td>\n      <td>0.0</td>\n      <td>0.0</td>\n      <td>0.0</td>\n      <td>30.2</td>\n      <td>0.0</td>\n      <td>10:26:00</td>\n      <td>0</td>\n      <td>0</td>\n    </tr>\n    <tr>\n      <th>2</th>\n      <td>Pioneer 3</td>\n      <td>1958-12-06</td>\n      <td>01:45:00</td>\n      <td>Cape Canaveral</td>\n      <td>1</td>\n      <td>Y</td>\n      <td>73.0</td>\n      <td>0.0</td>\n      <td>60.21</td>\n      <td>62.0</td>\n      <td>...</td>\n      <td>15.0</td>\n      <td>10.0</td>\n      <td>11.0</td>\n      <td>0.0</td>\n      <td>0.0</td>\n      <td>30.25</td>\n      <td>0.0</td>\n      <td>10:25:00</td>\n      <td>0</td>\n      <td>0</td>\n    </tr>\n    <tr>\n      <th>3</th>\n      <td>0</td>\n      <td>1958-12-07</td>\n      <td>0</td>\n      <td>Cape Canaveral</td>\n      <td>1</td>\n      <td>N</td>\n      <td>76.0</td>\n      <td>57.0</td>\n      <td>66.04</td>\n      <td>0.0</td>\n      <td>...</td>\n      <td>10.0</td>\n      <td>10.0</td>\n      <td>0.0</td>\n      <td>0.0</td>\n      <td>0.0</td>\n      <td>30.28</td>\n      <td>0.0</td>\n      <td>10:25:00</td>\n      <td>6</td>\n      <td>0</td>\n    </tr>\n    <tr>\n      <th>4</th>\n      <td>0</td>\n      <td>1958-12-08</td>\n      <td>0</td>\n      <td>Cape Canaveral</td>\n      <td>1</td>\n      <td>N</td>\n      <td>79.0</td>\n      <td>60.0</td>\n      <td>70.52</td>\n      <td>0.0</td>\n      <td>...</td>\n      <td>12.0</td>\n      <td>10.0</td>\n      <td>0.0</td>\n      <td>0.0</td>\n      <td>0.0</td>\n      <td>30.23</td>\n      <td>0.0</td>\n      <td>12:24:00</td>\n      <td>6</td>\n      <td>0</td>\n    </tr>\n  </tbody>\n</table>\n<p>5 rows × 26 columns</p>\n</div>"
     },
     "metadata": {},
     "execution_count": 7
    }
   ],
   "source": [
    "launch_data.head()"
   ]
  },
  {
   "cell_type": "code",
   "execution_count": 8,
   "metadata": {},
   "outputs": [],
   "source": [
    "# First, we save the output we are interested in. In this case, \"launch\" yes and no's go into the output variable.\n",
    "y = launch_data['Launched?']\n",
    "\n",
    "# Removing the columns we are not interested in\n",
    "launch_data.drop(['Name','Date','Time (East Coast)','Location','Launched?','Hist Ave Sea Level Pressure','Sea Level Pressure','Day Length','Notes','Hist Ave Visibility', 'Hist Ave Max Wind Speed'],axis=1, inplace=True)\n",
    "\n",
    "# Saving the rest of the data as input data\n",
    "X = launch_data"
   ]
  },
  {
   "cell_type": "code",
   "execution_count": 9,
   "metadata": {},
   "outputs": [
    {
     "output_type": "execute_result",
     "data": {
      "text/plain": "Index(['Crewed or Uncrewed', 'High Temp', 'Low Temp', 'Ave Temp',\n       'Temp at Launch Time', 'Hist High Temp', 'Hist Low Temp',\n       'Hist Ave Temp', 'Percipitation at Launch Time',\n       'Hist Ave Percipitation', 'Wind Direction', 'Max Wind Speed',\n       'Visibility', 'Wind Speed at Launch Time', 'Condition'],\n      dtype='object')"
     },
     "metadata": {},
     "execution_count": 9
    }
   ],
   "source": [
    "# List of variables that our machine learning algorithm is going to look at:\n",
    "X.columns"
   ]
  },
  {
   "cell_type": "code",
   "execution_count": 10,
   "metadata": {},
   "outputs": [],
   "source": [
    "# Create decision tree classifier \n",
    "tree_model = DecisionTreeClassifier(random_state=0,max_depth=5)"
   ]
  },
  {
   "cell_type": "code",
   "execution_count": 11,
   "metadata": {},
   "outputs": [],
   "source": [
    "X_train, X_test, y_train, y_test = train_test_split(X,y, test_size=0.2, random_state=99)"
   ]
  },
  {
   "cell_type": "code",
   "execution_count": 12,
   "metadata": {},
   "outputs": [
    {
     "output_type": "execute_result",
     "data": {
      "text/plain": "DecisionTreeClassifier(max_depth=5, random_state=0)"
     },
     "metadata": {},
     "execution_count": 12
    }
   ],
   "source": [
    "# Fitting the model to the training data\n",
    "tree_model.fit(X_train,y_train)"
   ]
  },
  {
   "cell_type": "code",
   "execution_count": 13,
   "metadata": {
    "tags": []
   },
   "outputs": [
    {
     "output_type": "stream",
     "name": "stdout",
     "text": "['N' 'N' 'N' 'Y' 'N' 'N' 'N' 'N' 'Y' 'Y' 'N' 'Y' 'N' 'N' 'N' 'N' 'N' 'N'\n 'N' 'N' 'N' 'N' 'Y' 'Y' 'N' 'N' 'N' 'N' 'N' 'N' 'N' 'Y' 'N' 'N' 'N' 'N'\n 'N' 'N' 'N' 'N' 'N' 'N' 'Y' 'N' 'N' 'N' 'Y' 'N' 'N' 'N' 'N' 'N' 'N' 'N'\n 'N' 'N' 'N' 'N' 'N' 'Y']\n"
    }
   ],
   "source": [
    "# Do prediction on test Data\n",
    "y_pred = tree_model.predict(X_test)\n",
    "print(y_pred)"
   ]
  },
  {
   "cell_type": "code",
   "execution_count": 14,
   "metadata": {},
   "outputs": [
    {
     "output_type": "execute_result",
     "data": {
      "text/plain": "0.9833333333333333"
     },
     "metadata": {},
     "execution_count": 14
    }
   ],
   "source": [
    "# Calculate accuracy\n",
    "tree_model.score(X_test,y_test)"
   ]
  },
  {
   "cell_type": "code",
   "execution_count": 15,
   "metadata": {},
   "outputs": [],
   "source": [
    "# Let's import a library for visualizing our decision tree.\n",
    "from sklearn.tree import export_graphviz\n",
    "\n",
    "def tree_graph_to_png(tree, feature_names,class_names, png_file_to_save):\n",
    "    tree_str = export_graphviz(tree, feature_names=feature_names, class_names=class_names,\n",
    "                                     filled=True, out_file=None)\n",
    "    graph = pydotplus.graph_from_dot_data(tree_str)  \n",
    "    return Image(graph.create_png())"
   ]
  },
  {
   "cell_type": "code",
   "execution_count": 16,
   "metadata": {},
   "outputs": [
    {
     "output_type": "error",
     "ename": "InvocationException",
     "evalue": "Program terminated with status: 1. stderr follows: 'C:\\Users\\Shubhadeep' is not recognized as an internal or external command,\r\noperable program or batch file.\r\n",
     "traceback": [
      "\u001b[1;31m---------------------------------------------------------------------------\u001b[0m",
      "\u001b[1;31mInvocationException\u001b[0m                       Traceback (most recent call last)",
      "\u001b[1;32m<ipython-input-16-eddf655c46da>\u001b[0m in \u001b[0;36m<module>\u001b[1;34m\u001b[0m\n\u001b[0;32m      1\u001b[0m \u001b[1;31m# This function takes a machine learning model and visualizes it.\u001b[0m\u001b[1;33m\u001b[0m\u001b[1;33m\u001b[0m\u001b[1;33m\u001b[0m\u001b[0m\n\u001b[1;32m----> 2\u001b[1;33m \u001b[0mtree_graph_to_png\u001b[0m\u001b[1;33m(\u001b[0m\u001b[0mtree\u001b[0m\u001b[1;33m=\u001b[0m\u001b[0mtree_model\u001b[0m\u001b[1;33m,\u001b[0m \u001b[0mfeature_names\u001b[0m\u001b[1;33m=\u001b[0m\u001b[0mX\u001b[0m\u001b[1;33m.\u001b[0m\u001b[0mcolumns\u001b[0m\u001b[1;33m.\u001b[0m\u001b[0mvalues\u001b[0m\u001b[1;33m,\u001b[0m\u001b[0mclass_names\u001b[0m\u001b[1;33m=\u001b[0m\u001b[1;33m[\u001b[0m\u001b[1;34m'No Launch'\u001b[0m\u001b[1;33m,\u001b[0m\u001b[1;34m'Launch'\u001b[0m\u001b[1;33m]\u001b[0m\u001b[1;33m,\u001b[0m \u001b[0mpng_file_to_save\u001b[0m\u001b[1;33m=\u001b[0m\u001b[1;34m'decision-tree.png'\u001b[0m\u001b[1;33m)\u001b[0m\u001b[1;33m\u001b[0m\u001b[1;33m\u001b[0m\u001b[0m\n\u001b[0m",
      "\u001b[1;32m<ipython-input-15-8be703452e6c>\u001b[0m in \u001b[0;36mtree_graph_to_png\u001b[1;34m(tree, feature_names, class_names, png_file_to_save)\u001b[0m\n\u001b[0;32m      6\u001b[0m                                      filled=True, out_file=None)\n\u001b[0;32m      7\u001b[0m     \u001b[0mgraph\u001b[0m \u001b[1;33m=\u001b[0m \u001b[0mpydotplus\u001b[0m\u001b[1;33m.\u001b[0m\u001b[0mgraph_from_dot_data\u001b[0m\u001b[1;33m(\u001b[0m\u001b[0mtree_str\u001b[0m\u001b[1;33m)\u001b[0m\u001b[1;33m\u001b[0m\u001b[1;33m\u001b[0m\u001b[0m\n\u001b[1;32m----> 8\u001b[1;33m     \u001b[1;32mreturn\u001b[0m \u001b[0mImage\u001b[0m\u001b[1;33m(\u001b[0m\u001b[0mgraph\u001b[0m\u001b[1;33m.\u001b[0m\u001b[0mcreate_png\u001b[0m\u001b[1;33m(\u001b[0m\u001b[1;33m)\u001b[0m\u001b[1;33m)\u001b[0m\u001b[1;33m\u001b[0m\u001b[1;33m\u001b[0m\u001b[0m\n\u001b[0m",
      "\u001b[1;32m~\\Anaconda3v2020\\envs\\myenv\\lib\\site-packages\\pydotplus\\graphviz.py\u001b[0m in \u001b[0;36m<lambda>\u001b[1;34m(f, prog)\u001b[0m\n\u001b[0;32m   1789\u001b[0m             self.__setattr__(\n\u001b[0;32m   1790\u001b[0m                 \u001b[1;34m'create_'\u001b[0m \u001b[1;33m+\u001b[0m \u001b[0mfrmt\u001b[0m\u001b[1;33m,\u001b[0m\u001b[1;33m\u001b[0m\u001b[1;33m\u001b[0m\u001b[0m\n\u001b[1;32m-> 1791\u001b[1;33m                 \u001b[1;32mlambda\u001b[0m \u001b[0mf\u001b[0m\u001b[1;33m=\u001b[0m\u001b[0mfrmt\u001b[0m\u001b[1;33m,\u001b[0m \u001b[0mprog\u001b[0m\u001b[1;33m=\u001b[0m\u001b[0mself\u001b[0m\u001b[1;33m.\u001b[0m\u001b[0mprog\u001b[0m\u001b[1;33m:\u001b[0m \u001b[0mself\u001b[0m\u001b[1;33m.\u001b[0m\u001b[0mcreate\u001b[0m\u001b[1;33m(\u001b[0m\u001b[0mformat\u001b[0m\u001b[1;33m=\u001b[0m\u001b[0mf\u001b[0m\u001b[1;33m,\u001b[0m \u001b[0mprog\u001b[0m\u001b[1;33m=\u001b[0m\u001b[0mprog\u001b[0m\u001b[1;33m)\u001b[0m\u001b[1;33m\u001b[0m\u001b[1;33m\u001b[0m\u001b[0m\n\u001b[0m\u001b[0;32m   1792\u001b[0m             )\n\u001b[0;32m   1793\u001b[0m             \u001b[0mf\u001b[0m \u001b[1;33m=\u001b[0m \u001b[0mself\u001b[0m\u001b[1;33m.\u001b[0m\u001b[0m__dict__\u001b[0m\u001b[1;33m[\u001b[0m\u001b[1;34m'create_'\u001b[0m \u001b[1;33m+\u001b[0m \u001b[0mfrmt\u001b[0m\u001b[1;33m]\u001b[0m\u001b[1;33m\u001b[0m\u001b[1;33m\u001b[0m\u001b[0m\n",
      "\u001b[1;32m~\\Anaconda3v2020\\envs\\myenv\\lib\\site-packages\\pydotplus\\graphviz.py\u001b[0m in \u001b[0;36mcreate\u001b[1;34m(self, prog, format)\u001b[0m\n\u001b[0;32m   2024\u001b[0m             raise InvocationException(\n\u001b[0;32m   2025\u001b[0m                 'Program terminated with status: %d. stderr follows: %s' % (\n\u001b[1;32m-> 2026\u001b[1;33m                     status, stderr_output))\n\u001b[0m\u001b[0;32m   2027\u001b[0m         \u001b[1;32melif\u001b[0m \u001b[0mstderr_output\u001b[0m\u001b[1;33m:\u001b[0m\u001b[1;33m\u001b[0m\u001b[1;33m\u001b[0m\u001b[0m\n\u001b[0;32m   2028\u001b[0m             \u001b[0mprint\u001b[0m\u001b[1;33m(\u001b[0m\u001b[0mstderr_output\u001b[0m\u001b[1;33m)\u001b[0m\u001b[1;33m\u001b[0m\u001b[1;33m\u001b[0m\u001b[0m\n",
      "\u001b[1;31mInvocationException\u001b[0m: Program terminated with status: 1. stderr follows: 'C:\\Users\\Shubhadeep' is not recognized as an internal or external command,\r\noperable program or batch file.\r\n"
     ]
    }
   ],
   "source": [
    "# This function takes a machine learning model and visualizes it.\n",
    "tree_graph_to_png(tree=tree_model, feature_names=X.columns.values,class_names=['No Launch','Launch'], png_file_to_save='decision-tree.png')"
   ]
  },
  {
   "cell_type": "code",
   "execution_count": 17,
   "metadata": {},
   "outputs": [
    {
     "output_type": "execute_result",
     "data": {
      "text/plain": "     Crewed or Uncrewed  High Temp  Low Temp  Ave Temp  Temp at Launch Time  \\\n292                   0       86.0      70.0     75.02                 74.0   \n\n     Hist High Temp  Hist Low Temp  Hist Ave Temp  \\\n292            87.0           70.0           79.0   \n\n     Percipitation at Launch Time  Hist Ave Percipitation  Wind Direction  \\\n292                          0.28                    0.15               4   \n\n     Max Wind Speed  Visibility  Wind Speed at Launch Time  Condition  \n292            32.0        10.0                       25.0          2  ",
      "text/html": "<div>\n<style scoped>\n    .dataframe tbody tr th:only-of-type {\n        vertical-align: middle;\n    }\n\n    .dataframe tbody tr th {\n        vertical-align: top;\n    }\n\n    .dataframe thead th {\n        text-align: right;\n    }\n</style>\n<table border=\"1\" class=\"dataframe\">\n  <thead>\n    <tr style=\"text-align: right;\">\n      <th></th>\n      <th>Crewed or Uncrewed</th>\n      <th>High Temp</th>\n      <th>Low Temp</th>\n      <th>Ave Temp</th>\n      <th>Temp at Launch Time</th>\n      <th>Hist High Temp</th>\n      <th>Hist Low Temp</th>\n      <th>Hist Ave Temp</th>\n      <th>Percipitation at Launch Time</th>\n      <th>Hist Ave Percipitation</th>\n      <th>Wind Direction</th>\n      <th>Max Wind Speed</th>\n      <th>Visibility</th>\n      <th>Wind Speed at Launch Time</th>\n      <th>Condition</th>\n    </tr>\n  </thead>\n  <tbody>\n    <tr>\n      <th>292</th>\n      <td>0</td>\n      <td>86.0</td>\n      <td>70.0</td>\n      <td>75.02</td>\n      <td>74.0</td>\n      <td>87.0</td>\n      <td>70.0</td>\n      <td>79.0</td>\n      <td>0.28</td>\n      <td>0.15</td>\n      <td>4</td>\n      <td>32.0</td>\n      <td>10.0</td>\n      <td>25.0</td>\n      <td>2</td>\n    </tr>\n  </tbody>\n</table>\n</div>"
     },
     "metadata": {},
     "execution_count": 17
    }
   ],
   "source": [
    "launch_data[(launch_data['Wind Speed at Launch Time'] > 1) & (launch_data['Max Wind Speed'] > 30.5)]"
   ]
  },
  {
   "cell_type": "code",
   "execution_count": 19,
   "metadata": {},
   "outputs": [
    {
     "output_type": "error",
     "ename": "InvocationException",
     "evalue": "Program terminated with status: 1. stderr follows: 'C:\\Users\\Shubhadeep' is not recognized as an internal or external command,\r\noperable program or batch file.\r\n",
     "traceback": [
      "\u001b[1;31m---------------------------------------------------------------------------\u001b[0m",
      "\u001b[1;31mInvocationException\u001b[0m                       Traceback (most recent call last)",
      "\u001b[1;32m<ipython-input-19-2ce3ac1efab6>\u001b[0m in \u001b[0;36m<module>\u001b[1;34m\u001b[0m\n\u001b[0;32m      1\u001b[0m \u001b[1;31m# This function takes a machine learning model and visualizes it.\u001b[0m\u001b[1;33m\u001b[0m\u001b[1;33m\u001b[0m\u001b[1;33m\u001b[0m\u001b[0m\n\u001b[1;32m----> 2\u001b[1;33m \u001b[0mtree_graph_to_png\u001b[0m\u001b[1;33m(\u001b[0m\u001b[0mtree\u001b[0m\u001b[1;33m=\u001b[0m\u001b[0mtree_model\u001b[0m\u001b[1;33m,\u001b[0m \u001b[0mfeature_names\u001b[0m\u001b[1;33m=\u001b[0m\u001b[0mX\u001b[0m\u001b[1;33m.\u001b[0m\u001b[0mcolumns\u001b[0m\u001b[1;33m.\u001b[0m\u001b[0mvalues\u001b[0m\u001b[1;33m,\u001b[0m\u001b[0mclass_names\u001b[0m\u001b[1;33m=\u001b[0m\u001b[1;33m[\u001b[0m\u001b[1;34m'No Launch'\u001b[0m\u001b[1;33m,\u001b[0m\u001b[1;34m'Launch'\u001b[0m\u001b[1;33m]\u001b[0m\u001b[1;33m,\u001b[0m \u001b[0mpng_file_to_save\u001b[0m\u001b[1;33m=\u001b[0m\u001b[1;34m'C:/Users/decision-tree.png'\u001b[0m\u001b[1;33m)\u001b[0m\u001b[1;33m\u001b[0m\u001b[1;33m\u001b[0m\u001b[0m\n\u001b[0m",
      "\u001b[1;32m<ipython-input-15-8be703452e6c>\u001b[0m in \u001b[0;36mtree_graph_to_png\u001b[1;34m(tree, feature_names, class_names, png_file_to_save)\u001b[0m\n\u001b[0;32m      6\u001b[0m                                      filled=True, out_file=None)\n\u001b[0;32m      7\u001b[0m     \u001b[0mgraph\u001b[0m \u001b[1;33m=\u001b[0m \u001b[0mpydotplus\u001b[0m\u001b[1;33m.\u001b[0m\u001b[0mgraph_from_dot_data\u001b[0m\u001b[1;33m(\u001b[0m\u001b[0mtree_str\u001b[0m\u001b[1;33m)\u001b[0m\u001b[1;33m\u001b[0m\u001b[1;33m\u001b[0m\u001b[0m\n\u001b[1;32m----> 8\u001b[1;33m     \u001b[1;32mreturn\u001b[0m \u001b[0mImage\u001b[0m\u001b[1;33m(\u001b[0m\u001b[0mgraph\u001b[0m\u001b[1;33m.\u001b[0m\u001b[0mcreate_png\u001b[0m\u001b[1;33m(\u001b[0m\u001b[1;33m)\u001b[0m\u001b[1;33m)\u001b[0m\u001b[1;33m\u001b[0m\u001b[1;33m\u001b[0m\u001b[0m\n\u001b[0m",
      "\u001b[1;32m~\\Anaconda3v2020\\envs\\myenv\\lib\\site-packages\\pydotplus\\graphviz.py\u001b[0m in \u001b[0;36m<lambda>\u001b[1;34m(f, prog)\u001b[0m\n\u001b[0;32m   1789\u001b[0m             self.__setattr__(\n\u001b[0;32m   1790\u001b[0m                 \u001b[1;34m'create_'\u001b[0m \u001b[1;33m+\u001b[0m \u001b[0mfrmt\u001b[0m\u001b[1;33m,\u001b[0m\u001b[1;33m\u001b[0m\u001b[1;33m\u001b[0m\u001b[0m\n\u001b[1;32m-> 1791\u001b[1;33m                 \u001b[1;32mlambda\u001b[0m \u001b[0mf\u001b[0m\u001b[1;33m=\u001b[0m\u001b[0mfrmt\u001b[0m\u001b[1;33m,\u001b[0m \u001b[0mprog\u001b[0m\u001b[1;33m=\u001b[0m\u001b[0mself\u001b[0m\u001b[1;33m.\u001b[0m\u001b[0mprog\u001b[0m\u001b[1;33m:\u001b[0m \u001b[0mself\u001b[0m\u001b[1;33m.\u001b[0m\u001b[0mcreate\u001b[0m\u001b[1;33m(\u001b[0m\u001b[0mformat\u001b[0m\u001b[1;33m=\u001b[0m\u001b[0mf\u001b[0m\u001b[1;33m,\u001b[0m \u001b[0mprog\u001b[0m\u001b[1;33m=\u001b[0m\u001b[0mprog\u001b[0m\u001b[1;33m)\u001b[0m\u001b[1;33m\u001b[0m\u001b[1;33m\u001b[0m\u001b[0m\n\u001b[0m\u001b[0;32m   1792\u001b[0m             )\n\u001b[0;32m   1793\u001b[0m             \u001b[0mf\u001b[0m \u001b[1;33m=\u001b[0m \u001b[0mself\u001b[0m\u001b[1;33m.\u001b[0m\u001b[0m__dict__\u001b[0m\u001b[1;33m[\u001b[0m\u001b[1;34m'create_'\u001b[0m \u001b[1;33m+\u001b[0m \u001b[0mfrmt\u001b[0m\u001b[1;33m]\u001b[0m\u001b[1;33m\u001b[0m\u001b[1;33m\u001b[0m\u001b[0m\n",
      "\u001b[1;32m~\\Anaconda3v2020\\envs\\myenv\\lib\\site-packages\\pydotplus\\graphviz.py\u001b[0m in \u001b[0;36mcreate\u001b[1;34m(self, prog, format)\u001b[0m\n\u001b[0;32m   2024\u001b[0m             raise InvocationException(\n\u001b[0;32m   2025\u001b[0m                 'Program terminated with status: %d. stderr follows: %s' % (\n\u001b[1;32m-> 2026\u001b[1;33m                     status, stderr_output))\n\u001b[0m\u001b[0;32m   2027\u001b[0m         \u001b[1;32melif\u001b[0m \u001b[0mstderr_output\u001b[0m\u001b[1;33m:\u001b[0m\u001b[1;33m\u001b[0m\u001b[1;33m\u001b[0m\u001b[0m\n\u001b[0;32m   2028\u001b[0m             \u001b[0mprint\u001b[0m\u001b[1;33m(\u001b[0m\u001b[0mstderr_output\u001b[0m\u001b[1;33m)\u001b[0m\u001b[1;33m\u001b[0m\u001b[1;33m\u001b[0m\u001b[0m\n",
      "\u001b[1;31mInvocationException\u001b[0m: Program terminated with status: 1. stderr follows: 'C:\\Users\\Shubhadeep' is not recognized as an internal or external command,\r\noperable program or batch file.\r\n"
     ]
    }
   ],
   "source": [
    "# This function takes a machine learning model and visualizes it.\n",
    "tree_graph_to_png(tree=tree_model, feature_names=X.columns.values,class_names=['No Launch','Launch'], png_file_to_save='C:/Users/decision-tree.png')"
   ]
  },
  {
   "cell_type": "code",
   "execution_count": 20,
   "metadata": {},
   "outputs": [
    {
     "output_type": "error",
     "ename": "InvocationException",
     "evalue": "Program terminated with status: 1. stderr follows: 'C:\\Users\\Shubhadeep' is not recognized as an internal or external command,\r\noperable program or batch file.\r\n",
     "traceback": [
      "\u001b[1;31m---------------------------------------------------------------------------\u001b[0m",
      "\u001b[1;31mInvocationException\u001b[0m                       Traceback (most recent call last)",
      "\u001b[1;32m<ipython-input-20-eddf655c46da>\u001b[0m in \u001b[0;36m<module>\u001b[1;34m\u001b[0m\n\u001b[0;32m      1\u001b[0m \u001b[1;31m# This function takes a machine learning model and visualizes it.\u001b[0m\u001b[1;33m\u001b[0m\u001b[1;33m\u001b[0m\u001b[1;33m\u001b[0m\u001b[0m\n\u001b[1;32m----> 2\u001b[1;33m \u001b[0mtree_graph_to_png\u001b[0m\u001b[1;33m(\u001b[0m\u001b[0mtree\u001b[0m\u001b[1;33m=\u001b[0m\u001b[0mtree_model\u001b[0m\u001b[1;33m,\u001b[0m \u001b[0mfeature_names\u001b[0m\u001b[1;33m=\u001b[0m\u001b[0mX\u001b[0m\u001b[1;33m.\u001b[0m\u001b[0mcolumns\u001b[0m\u001b[1;33m.\u001b[0m\u001b[0mvalues\u001b[0m\u001b[1;33m,\u001b[0m\u001b[0mclass_names\u001b[0m\u001b[1;33m=\u001b[0m\u001b[1;33m[\u001b[0m\u001b[1;34m'No Launch'\u001b[0m\u001b[1;33m,\u001b[0m\u001b[1;34m'Launch'\u001b[0m\u001b[1;33m]\u001b[0m\u001b[1;33m,\u001b[0m \u001b[0mpng_file_to_save\u001b[0m\u001b[1;33m=\u001b[0m\u001b[1;34m'decision-tree.png'\u001b[0m\u001b[1;33m)\u001b[0m\u001b[1;33m\u001b[0m\u001b[1;33m\u001b[0m\u001b[0m\n\u001b[0m",
      "\u001b[1;32m<ipython-input-15-8be703452e6c>\u001b[0m in \u001b[0;36mtree_graph_to_png\u001b[1;34m(tree, feature_names, class_names, png_file_to_save)\u001b[0m\n\u001b[0;32m      6\u001b[0m                                      filled=True, out_file=None)\n\u001b[0;32m      7\u001b[0m     \u001b[0mgraph\u001b[0m \u001b[1;33m=\u001b[0m \u001b[0mpydotplus\u001b[0m\u001b[1;33m.\u001b[0m\u001b[0mgraph_from_dot_data\u001b[0m\u001b[1;33m(\u001b[0m\u001b[0mtree_str\u001b[0m\u001b[1;33m)\u001b[0m\u001b[1;33m\u001b[0m\u001b[1;33m\u001b[0m\u001b[0m\n\u001b[1;32m----> 8\u001b[1;33m     \u001b[1;32mreturn\u001b[0m \u001b[0mImage\u001b[0m\u001b[1;33m(\u001b[0m\u001b[0mgraph\u001b[0m\u001b[1;33m.\u001b[0m\u001b[0mcreate_png\u001b[0m\u001b[1;33m(\u001b[0m\u001b[1;33m)\u001b[0m\u001b[1;33m)\u001b[0m\u001b[1;33m\u001b[0m\u001b[1;33m\u001b[0m\u001b[0m\n\u001b[0m",
      "\u001b[1;32m~\\Anaconda3v2020\\envs\\myenv\\lib\\site-packages\\pydotplus\\graphviz.py\u001b[0m in \u001b[0;36m<lambda>\u001b[1;34m(f, prog)\u001b[0m\n\u001b[0;32m   1789\u001b[0m             self.__setattr__(\n\u001b[0;32m   1790\u001b[0m                 \u001b[1;34m'create_'\u001b[0m \u001b[1;33m+\u001b[0m \u001b[0mfrmt\u001b[0m\u001b[1;33m,\u001b[0m\u001b[1;33m\u001b[0m\u001b[1;33m\u001b[0m\u001b[0m\n\u001b[1;32m-> 1791\u001b[1;33m                 \u001b[1;32mlambda\u001b[0m \u001b[0mf\u001b[0m\u001b[1;33m=\u001b[0m\u001b[0mfrmt\u001b[0m\u001b[1;33m,\u001b[0m \u001b[0mprog\u001b[0m\u001b[1;33m=\u001b[0m\u001b[0mself\u001b[0m\u001b[1;33m.\u001b[0m\u001b[0mprog\u001b[0m\u001b[1;33m:\u001b[0m \u001b[0mself\u001b[0m\u001b[1;33m.\u001b[0m\u001b[0mcreate\u001b[0m\u001b[1;33m(\u001b[0m\u001b[0mformat\u001b[0m\u001b[1;33m=\u001b[0m\u001b[0mf\u001b[0m\u001b[1;33m,\u001b[0m \u001b[0mprog\u001b[0m\u001b[1;33m=\u001b[0m\u001b[0mprog\u001b[0m\u001b[1;33m)\u001b[0m\u001b[1;33m\u001b[0m\u001b[1;33m\u001b[0m\u001b[0m\n\u001b[0m\u001b[0;32m   1792\u001b[0m             )\n\u001b[0;32m   1793\u001b[0m             \u001b[0mf\u001b[0m \u001b[1;33m=\u001b[0m \u001b[0mself\u001b[0m\u001b[1;33m.\u001b[0m\u001b[0m__dict__\u001b[0m\u001b[1;33m[\u001b[0m\u001b[1;34m'create_'\u001b[0m \u001b[1;33m+\u001b[0m \u001b[0mfrmt\u001b[0m\u001b[1;33m]\u001b[0m\u001b[1;33m\u001b[0m\u001b[1;33m\u001b[0m\u001b[0m\n",
      "\u001b[1;32m~\\Anaconda3v2020\\envs\\myenv\\lib\\site-packages\\pydotplus\\graphviz.py\u001b[0m in \u001b[0;36mcreate\u001b[1;34m(self, prog, format)\u001b[0m\n\u001b[0;32m   2024\u001b[0m             raise InvocationException(\n\u001b[0;32m   2025\u001b[0m                 'Program terminated with status: %d. stderr follows: %s' % (\n\u001b[1;32m-> 2026\u001b[1;33m                     status, stderr_output))\n\u001b[0m\u001b[0;32m   2027\u001b[0m         \u001b[1;32melif\u001b[0m \u001b[0mstderr_output\u001b[0m\u001b[1;33m:\u001b[0m\u001b[1;33m\u001b[0m\u001b[1;33m\u001b[0m\u001b[0m\n\u001b[0;32m   2028\u001b[0m             \u001b[0mprint\u001b[0m\u001b[1;33m(\u001b[0m\u001b[0mstderr_output\u001b[0m\u001b[1;33m)\u001b[0m\u001b[1;33m\u001b[0m\u001b[1;33m\u001b[0m\u001b[0m\n",
      "\u001b[1;31mInvocationException\u001b[0m: Program terminated with status: 1. stderr follows: 'C:\\Users\\Shubhadeep' is not recognized as an internal or external command,\r\noperable program or batch file.\r\n"
     ]
    }
   ],
   "source": [
    "# This function takes a machine learning model and visualizes it.\n",
    "tree_graph_to_png(tree=tree_model, feature_names=X.columns.values,class_names=['No Launch','Launch'], png_file_to_save='decision-tree.png')"
   ]
  },
  {
   "cell_type": "code",
   "execution_count": 21,
   "metadata": {},
   "outputs": [
    {
     "output_type": "execute_result",
     "data": {
      "text/plain": "     Crewed or Uncrewed  High Temp  Low Temp  Ave Temp  Temp at Launch Time  \\\n292                   0       86.0      70.0     75.02                 74.0   \n\n     Hist High Temp  Hist Low Temp  Hist Ave Temp  \\\n292            87.0           70.0           79.0   \n\n     Percipitation at Launch Time  Hist Ave Percipitation  Wind Direction  \\\n292                          0.28                    0.15               4   \n\n     Max Wind Speed  Visibility  Wind Speed at Launch Time  Condition  \n292            32.0        10.0                       25.0          2  ",
      "text/html": "<div>\n<style scoped>\n    .dataframe tbody tr th:only-of-type {\n        vertical-align: middle;\n    }\n\n    .dataframe tbody tr th {\n        vertical-align: top;\n    }\n\n    .dataframe thead th {\n        text-align: right;\n    }\n</style>\n<table border=\"1\" class=\"dataframe\">\n  <thead>\n    <tr style=\"text-align: right;\">\n      <th></th>\n      <th>Crewed or Uncrewed</th>\n      <th>High Temp</th>\n      <th>Low Temp</th>\n      <th>Ave Temp</th>\n      <th>Temp at Launch Time</th>\n      <th>Hist High Temp</th>\n      <th>Hist Low Temp</th>\n      <th>Hist Ave Temp</th>\n      <th>Percipitation at Launch Time</th>\n      <th>Hist Ave Percipitation</th>\n      <th>Wind Direction</th>\n      <th>Max Wind Speed</th>\n      <th>Visibility</th>\n      <th>Wind Speed at Launch Time</th>\n      <th>Condition</th>\n    </tr>\n  </thead>\n  <tbody>\n    <tr>\n      <th>292</th>\n      <td>0</td>\n      <td>86.0</td>\n      <td>70.0</td>\n      <td>75.02</td>\n      <td>74.0</td>\n      <td>87.0</td>\n      <td>70.0</td>\n      <td>79.0</td>\n      <td>0.28</td>\n      <td>0.15</td>\n      <td>4</td>\n      <td>32.0</td>\n      <td>10.0</td>\n      <td>25.0</td>\n      <td>2</td>\n    </tr>\n  </tbody>\n</table>\n</div>"
     },
     "metadata": {},
     "execution_count": 21
    }
   ],
   "source": [
    "launch_data[(launch_data['Wind Speed at Launch Time'] > 1) & (launch_data['Max Wind Speed'] > 30.5)]"
   ]
  },
  {
   "cell_type": "code",
   "execution_count": 22,
   "metadata": {},
   "outputs": [
    {
     "output_type": "execute_result",
     "data": {
      "text/plain": "array(['N'], dtype=object)"
     },
     "metadata": {},
     "execution_count": 22
    }
   ],
   "source": [
    "# ['Crewed or Uncrewed', 'High Temp', 'Low Temp', 'Ave Temp',\n",
    "#        'Temp at Launch Time', 'Hist High Temp', 'Hist Low Temp',\n",
    "#        'Hist Ave Temp', 'Precipitation at Launch Time',\n",
    "#        'Hist Ave Precipitation', 'Wind Direction', 'Max Wind Speed',\n",
    "#        'Visibility', 'Wind Speed at Launch Time', 'Hist Ave Max Wind Speed',\n",
    "#        'Hist Ave Visibility', 'Condition']\n",
    "\n",
    "data_input = [ 1.  , 75.  , 68.  , 71.  ,  0.  , 75.  , 55.  , 65.  ,  0.  , 0.08,  0.  , 16.  , 15.  ,  0.  ,  0. ]\n",
    "\n",
    "tree_model.predict([data_input])"
   ]
  },
  {
   "cell_type": "code",
   "execution_count": null,
   "metadata": {},
   "outputs": [],
   "source": []
  }
 ]
}